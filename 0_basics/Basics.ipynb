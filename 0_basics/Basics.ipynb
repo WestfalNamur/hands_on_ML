{
 "cells": [
  {
   "cell_type": "markdown",
   "metadata": {},
   "source": [
    "**MACHINE LEARNING:**\n",
    "Ability of computers to learn without being explicitly programmed. A computer\n",
    "learns when its performance to some task improves with experience; Good if existing solution\n",
    "requires a lot of fine tuning, complex problems where known algorithm are not sufficient, if\n",
    "algorithm needs to adapt to changes and to get insight into data (DATA MINING);"
   ]
  },
  {
   "cell_type": "markdown",
   "metadata": {},
   "source": [
    "**TYPES OF ML:**\n",
    "- Supervised vs Unsupervised\n",
    "  - Supervised: training's set includes desired solution (LABELS);\n",
    "  - Unsupervised: unlabeled data;\n",
    "  - Semi-supervised: Combine supervised and unsupervised learning;\n",
    "  - Reinforcement: The agent observes the environment, preforms actions and gets rewards. It\n",
    "    then develops a policy to get the most rewards over time;\n",
    "<br/><br/> \n",
    "\n",
    "- Batch vs Online\n",
    "  Does the system learn incremental from stream of data coming in or not?\n",
    "  - Batch\n",
    "    Incapable of learning incrementally; Needs all available data on training;\n",
    "    * Offline learning, can be automated\n",
    "  - Online Learning\n",
    "    Learns incremental by taking in training instances or mini-batches over time; Learns on the\n",
    "    fly; Once trained, it can forget the data and focus on new ones; \n",
    "    * Out-of-core: Splits data into processable chunks, learns, then continuous to the next chunk;\n",
    "    * Learning rate: Speed vs stability;\n",
    "<br/><br/> \n",
    "\n",
    "- Instance vs Model\n",
    "  How does the system generalize?\n",
    "  - Instance based\n",
    "    Learn examples by heart and categorize new instances by similarity to known ones;\n",
    "  - Model based\n",
    "    System builds a model of data to make prediction; "
   ]
  },
  {
   "cell_type": "markdown",
   "metadata": {},
   "source": [
    "**CHALLENGES:**\n",
    "- Insufficient quantity data  # Unreasonable effectiveness of data\n",
    "\n",
    "- Nonrepresentative Training Data\n",
    "  - Training set needs to be cases that shall be generalized\n",
    "  - Sample noise (non-representative data as a result of chance)\n",
    "  - Sample bias (Sampling method is flawed)\n",
    "<br/><br/> \n",
    "  \n",
    "- Poor quality\n",
    "\n",
    "- Irrelevant features # Feature engineering\n",
    "  - feature selection\n",
    "  - feature extraction\n",
    "  - new data\n",
    "<br/><br/> \n",
    "  \n",
    "- Over-fitting: happens when model is to complex relative to the data;\n",
    "  - Regularization: Constrain a model to make it simpler to reduce risk of over-fitting. i.e.\n",
    "    regulate degree of freedom.\n",
    "<br/><br/> \n",
    "    \n",
    "- Under-fitting\n",
    "  Algorithm to simple to catch complexity;"
   ]
  },
  {
   "cell_type": "markdown",
   "metadata": {},
   "source": [
    "**TESTING AND VALIDATION**\n",
    "- Split data\n",
    "  - Test-Set\n",
    "    Use to estimate generalization error => how well does the training set perform on unknown data?\n",
    "  - Training-Set\n",
    "    Used to train data\n",
    "\n",
    "- Hyper parameter Tuning and model selection\n",
    "  Avoid fitting hypermarket or model to specific training data set.\n",
    "  - Holdout set or validation set or dev set\n",
    "  Hold out part of training set - train model on this - select the best one - test on whole test\n",
    "  set.\n",
    "  - Repeated cross validation\n",
    "  Train on several holdout sets - average out the results to get an estimate of the model\n",
    "  performance."
   ]
  },
  {
   "cell_type": "markdown",
   "metadata": {},
   "source": [
    "**Common terms**\n",
    "\n",
    "Training set, \n",
    "Training instance (sample), training data (with respect to task), accuracy,\n",
    "classification, predictors, regression, attribute (is a data type), features (attribute + value),\n",
    "logistic regression, feature extraction (combining features into one; possible if strong\n",
    "correlation), similarity, noise (partly random), model selection, model parameter, performance\n",
    "measure: Utility function or cost function, training (fit model to data), hyper parameter\n",
    "(Parameter of the ML-Alg. not the model),"
   ]
  },
  {
   "cell_type": "code",
   "execution_count": null,
   "metadata": {},
   "outputs": [],
   "source": []
  }
 ],
 "metadata": {
  "kernelspec": {
   "display_name": "hands_on_ml",
   "language": "python",
   "name": "hands_on_ml"
  },
  "language_info": {
   "codemirror_mode": {
    "name": "ipython",
    "version": 3
   },
   "file_extension": ".py",
   "mimetype": "text/x-python",
   "name": "python",
   "nbconvert_exporter": "python",
   "pygments_lexer": "ipython3",
   "version": "3.8.5"
  }
 },
 "nbformat": 4,
 "nbformat_minor": 4
}
