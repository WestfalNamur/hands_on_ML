{
 "cells": [
  {
   "cell_type": "markdown",
   "metadata": {},
   "source": [
    "# Example of an end to end ML project\n",
    "\n",
    "Source: Hands-On Machine Learning witch Scikit-Learn, Keras & Tensorflow by Aurelien Geron\n",
    "\n",
    "**Main steps**\n",
    "1. Look at the big picture\n",
    "2. Get the data\n",
    "3. Discover and visualize the data to gain insights\n",
    "4. Prepare data for ML algorithms\n",
    "5. Select a model and train it\n",
    "6. Fine-tune the model\n",
    "7. Present solution\n",
    "8. Lunch, monitor, and maintain your system"
   ]
  },
  {
   "cell_type": "markdown",
   "metadata": {},
   "source": [
    "## Imports"
   ]
  },
  {
   "cell_type": "code",
   "execution_count": 1,
   "metadata": {},
   "outputs": [],
   "source": [
    "# Standard libraries\n",
    "import os\n",
    "import tarfile\n",
    "import urllib\n",
    "\n",
    "# 3rd party libraries\n",
    "import sklearn\n",
    "import pandas as pd\n",
    "import numpy as np\n",
    "import matplotlib.pyplot as plt\n",
    "from pandas.plotting import scatter_matrix\n",
    "from sklearn.model_selection import StratifiedShuffleSplit\n",
    "from sklearn.impute import SimpleImputer\n",
    "from sklearn.preprocessing import OrdinalEncoder\n",
    "from sklearn.preprocessing import OneHotEncoder\n",
    "from sklearn.base import BaseEstimator, TransformerMixin\n",
    "from sklearn.pipeline import Pipeline\n",
    "from sklearn.preprocessing import StandardScaler\n",
    "from sklearn.compose import ColumnTransformer"
   ]
  },
  {
   "cell_type": "code",
   "execution_count": 2,
   "metadata": {},
   "outputs": [],
   "source": [
    "import warnings\n",
    "warnings.filterwarnings(action=\"ignore\", message=\"^internal gelsd\")\n",
    "\n",
    "%matplotlib inline"
   ]
  },
  {
   "cell_type": "markdown",
   "metadata": {},
   "source": [
    "Hint Go thorugh a default check list. This works well for a lot of projects and gives you a starting piont that can be adpted to your needs."
   ]
  },
  {
   "cell_type": "markdown",
   "metadata": {},
   "source": [
    "# 1. Look at the big picture"
   ]
  },
  {
   "cell_type": "markdown",
   "metadata": {},
   "source": [
    "#### 1.1 Frame the problem.\n",
    "*Theory* <br>\n",
    "A. What is the business objective? How does your organization aims to benefit from the mode? A good understanding here will help to frame the problem, algorithms to use, performance measurements, and prioritization. Ask what the current solution is, if there is any. This will give you a reference for performance and what to solve. <br> \n",
    "B. What system to use? Supervised, unsupervised, reinforcement learning, classification, etc. <br>\n",
    "\n",
    "*Example* <br>\n",
    "A. The model should predict if it is worth it to invest in a given area or not (price estimates / market price). Current solution is done manually, time cosuming and costly. The error is ca. 20%. <br>\n",
    "B. Supervised learning task (given labled data-set), muliple univariant regression task (use of muliple features to predict a numeric value for each district), and plain batch learning (No data stream or need to rapidly adjust data and small enough to fit into memory).  \n",
    "\n",
    "#### 1.2 Select performance measure\n",
    "*Theory & Example* <br>\n",
    "Typical performance measure for a regression system is the Root Mean Square Error. Good estimate for errors with high weight on large errors. \n",
    "\n",
    "#### 1.3 Check Assumptions\n",
    "*Theory* <br>\n",
    "Check assumptions to avoide mistakes early on. (Communication!)\n",
    "\n",
    "*Example* <br>\n",
    "We predict prices but we need to check if the downstream team will not actuall"
   ]
  },
  {
   "cell_type": "markdown",
   "metadata": {},
   "source": [
    "# Glossary in order in which they appear during this chapter. "
   ]
  },
  {
   "cell_type": "markdown",
   "metadata": {},
   "source": [
    "Pipelines: Sequence of data processing components. They ususally work asynchronously and are connected via the data store. Here each component pulls data from a store, process is and stores the reults in another store."
   ]
  },
  {
   "cell_type": "markdown",
   "metadata": {},
   "source": [
    "Notation: <br>\n",
    "\n",
    "m: number of instances in a dataset. <br>\n",
    "x^i: feature vector. <br>\n",
    "X: matrix containing all feature vectors of all dataset instances. <br>\n",
    "h: sytems prediction function. <br>\n",
    "RMSE(X,h): cost function. <br>"
   ]
  },
  {
   "cell_type": "code",
   "execution_count": null,
   "metadata": {},
   "outputs": [],
   "source": []
  }
 ],
 "metadata": {
  "kernelspec": {
   "display_name": "Python 3",
   "language": "python",
   "name": "python3"
  },
  "language_info": {
   "codemirror_mode": {
    "name": "ipython",
    "version": 3
   },
   "file_extension": ".py",
   "mimetype": "text/x-python",
   "name": "python",
   "nbconvert_exporter": "python",
   "pygments_lexer": "ipython3",
   "version": "3.9.4"
  }
 },
 "nbformat": 4,
 "nbformat_minor": 4
}
