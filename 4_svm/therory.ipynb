{
 "cells": [
  {
   "cell_type": "markdown",
   "id": "8e5324cb-c2e5-4a39-9d1c-88b7c7d43065",
   "metadata": {},
   "source": [
    "# Jupyter Notebook is MathJax-aware\n",
    "- This means that you can freely mix in mathematical expressions using the MathJax subset of Tex and LaTeX.\n",
    "- https://jupyter-notebook.readthedocs.io/en/stable/examples/Notebook/Typesetting%20Equations.html"
   ]
  },
  {
   "cell_type": "markdown",
   "id": "b850aa20-cf33-45bc-b12e-2f8e5e3f5f09",
   "metadata": {},
   "source": [
    "# Convetion for SVM\n",
    "- b: bias term\n",
    "- **w**: feature weights\n",
    "- No bias feature added to input feature vectors"
   ]
  },
  {
   "cell_type": "markdown",
   "id": "a62f7d74-408d-444f-8230-d979fef44214",
   "metadata": {},
   "source": [
    "# Decision function\n",
    "- Predict **x** by computing the decision function: \n",
    "\n",
    "\\begin{equation*}\n",
    "\\mathbf{w}^T \\mathbf{x} + b = w_1 x_1 + ... + w_n x_n\n",
    "\\end{equation*}\n",
    "\n",
    "- True if decision functions is >0 and False if 0 or negative."
   ]
  },
  {
   "cell_type": "markdown",
   "id": "c17598e7-2631-4a01-aa4a-4a736462eaa5",
   "metadata": {},
   "source": [
    "# Training objective:\n",
    "- Consider slope of decision is equal to the norm of the wighted vector ||w||.\n",
    "- We want to minimize ||w|| to get a large margine and we want to avoide margine violations or limiting them (softmax margine). So the decision functions needs to be >1 for all positives and <(-1) for all negative instances.\n",
    "- We define: t^1 = -1 for all negatives && t^1 = 1 for all positives. Now we can define the constrain:\n",
    "\\begin{equation*}\n",
    "t^i (\\mathbf{w}^T \\mathbf{x}^i + b) >= 1\n",
    "\\end{equation*}\n",
    "for all instances."
   ]
  },
  {
   "cell_type": "markdown",
   "id": "7ed56507-004b-412e-b984-eb9b15fd9833",
   "metadata": {},
   "source": [
    "We define the hard-margin classifier as:\n",
    "\\begin{equation*}\n",
    "minimize (\\mathbf{w}, b)  \\frac{1}{2}\\mathbf{w}^T\\mathbf{w}\n",
    "\\end{equation*}\n",
    "\n",
    "Subjected to\n",
    "\\begin{equation*}\n",
    "t^i(\\mathbf{w}^T\\mathbf{x}^i + b) >= 1\n",
    "\\end{equation*}\n",
    "\n",
    "for i = 1, 2, ..., n"
   ]
  },
  {
   "cell_type": "markdown",
   "id": "780301ee-056b-4d53-89c8-f8e1c0e7d17a",
   "metadata": {},
   "source": [
    "We are minimizing:\n",
    "\\begin{equation*}\n",
    "\\frac{1}{2}\\mathbf{w}^T\\mathbf{w}\n",
    "\\end{equation*}\n",
    "\n",
    "which is equal to\n",
    "\\begin{equation*}\n",
    "\\frac{1}{2}||\\mathbf{w}||^2\n",
    "\\end{equation*}\n",
    "\n",
    "which has the derivative:\n",
    "\\begin{equation*}\n",
    "||\\mathbf{w}||\n",
    "\\end{equation*}\n",
    "\n",
    "Much easier to calculate with,"
   ]
  },
  {
   "cell_type": "markdown",
   "id": "b2e0404d-32bf-4c04-8ba5-e1c5afcd76cc",
   "metadata": {},
   "source": [
    "#### Softmargine\n",
    "To get the softmargine objective we need to introduce the slack variable \n",
    "\\begin{equation*}\n",
    "\\zeta^i >= 0\n",
    "\\end{equation*}\n",
    "\n",
    "It set how much each instance i can violate the margine. "
   ]
  },
  {
   "cell_type": "markdown",
   "id": "3ef764fb-8292-45e1-93bf-32b4da1656f7",
   "metadata": {},
   "source": [
    "#### Conflict\n",
    "We want to minimize zeta and maximize the margine."
   ]
  },
  {
   "cell_type": "markdown",
   "id": "b5c1d6f5-a0a7-4318-9998-aabfd151572d",
   "metadata": {},
   "source": [
    "#### C\n",
    "C lets us define a tradeoff between those two. This gives us the constrained optimization problem."
   ]
  },
  {
   "cell_type": "markdown",
   "id": "3d925242-b08b-4d14-88d7-2173b14eb727",
   "metadata": {},
   "source": [
    "\\begin{equation*}\n",
    "minimize (\\mathbf{w}, b)  \\frac{1}{2}\\mathbf{w}^T\\mathbf{w} + C \\sum_{i=1}^m \\zeta^i\n",
    "\\end{equation*}\n",
    "\n",
    "subjected to:\n",
    "\n",
    "\\begin{equation*}\n",
    "t^i(\\mathbf{w}^T\\mathbf{x}^i + b) >= 1 - \\zeta^i\n",
    "\\end{equation*}\n",
    "\n",
    "for i = 1, ..., n"
   ]
  },
  {
   "cell_type": "code",
   "execution_count": null,
   "id": "7e01833a-a9f0-4a30-b652-c46508274bb5",
   "metadata": {},
   "outputs": [],
   "source": []
  }
 ],
 "metadata": {
  "kernelspec": {
   "display_name": "Python 3",
   "language": "python",
   "name": "python3"
  },
  "language_info": {
   "codemirror_mode": {
    "name": "ipython",
    "version": 3
   },
   "file_extension": ".py",
   "mimetype": "text/x-python",
   "name": "python",
   "nbconvert_exporter": "python",
   "pygments_lexer": "ipython3",
   "version": "3.9.4"
  }
 },
 "nbformat": 4,
 "nbformat_minor": 5
}
