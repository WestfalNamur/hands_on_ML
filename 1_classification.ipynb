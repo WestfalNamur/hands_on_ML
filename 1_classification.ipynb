{
 "cells": [
  {
   "cell_type": "markdown",
   "id": "11a21472-39d0-401f-9f45-7a1114257755",
   "metadata": {},
   "source": [
    "# Get the MNIST data set."
   ]
  },
  {
   "cell_type": "code",
   "execution_count": 1,
   "id": "3629bb26-cc89-4ffd-b207-aa68ccba5465",
   "metadata": {},
   "outputs": [],
   "source": [
    "import numpy as np"
   ]
  },
  {
   "cell_type": "code",
   "execution_count": 2,
   "id": "bc8344af-25cf-48bd-8d52-bd8ffa5a3664",
   "metadata": {},
   "outputs": [
    {
     "data": {
      "text/plain": [
       "dict_keys(['data', 'target', 'frame', 'categories', 'feature_names', 'target_names', 'DESCR', 'details', 'url'])"
      ]
     },
     "execution_count": 2,
     "metadata": {},
     "output_type": "execute_result"
    }
   ],
   "source": [
    "from sklearn.datasets import fetch_openml\n",
    "mnist = fetch_openml('mnist_784', version=1, as_frame=False)\n",
    "mnist.keys()"
   ]
  },
  {
   "cell_type": "markdown",
   "id": "c032f48e-1465-47a4-a71d-02d7d61c0efd",
   "metadata": {},
   "source": [
    "Look at shape of mnist data."
   ]
  },
  {
   "cell_type": "code",
   "execution_count": 3,
   "id": "05a2aabd-7208-405a-b978-6330c34659cf",
   "metadata": {},
   "outputs": [],
   "source": [
    "# Data set is split into data & targets.\n",
    "X = mnist[\"data\"].astype(int)\n",
    "y = mnist[\"target\"].astype(int)"
   ]
  },
  {
   "cell_type": "code",
   "execution_count": 4,
   "id": "db2975b8-d3ee-4499-b269-459370afcec7",
   "metadata": {},
   "outputs": [
    {
     "data": {
      "image/png": "[encoded data removed]",
      "text/plain": [
       "<Figure size 432x288 with 1 Axes>"
      ]
     },
     "metadata": {
      "needs_background": "light"
     },
     "output_type": "display_data"
    }
   ],
   "source": [
    "%matplotlib inline\n",
    "import matplotlib as mpl\n",
    "import matplotlib.pyplot as plt\n",
    "\n",
    "# Each entity is a row of 784 values. These values represent a 28x28 matrix of \n",
    "# grey scale image.\n",
    "some_digit = X[0]\n",
    "some_digit_image = some_digit.reshape(28, 28)\n",
    "plt.imshow(some_digit_image, cmap=mpl.cm.binary)\n",
    "plt.axis(\"off\")\n",
    "\n",
    "plt.show()"
   ]
  },
  {
   "cell_type": "markdown",
   "id": "4700a29d-3a5a-4cf0-ab38-af17bb696734",
   "metadata": {},
   "source": [
    "Split a test-set off. Hint: The MNIST data set is already shuffled. No need to randomly sample."
   ]
  },
  {
   "cell_type": "markdown",
   "id": "d9e0f8e3-fc1f-4691-8ab2-8964f63fb0c5",
   "metadata": {},
   "source": [
    "# Training a binary classifer\n",
    "\n",
    "Simplify problem for now. Only classify if a img represent a 5 or not."
   ]
  },
  {
   "cell_type": "code",
   "execution_count": 5,
   "id": "0d7e251c-0a85-4e1b-baea-2bec34e22301",
   "metadata": {},
   "outputs": [],
   "source": [
    "X_train = X[:60000]\n",
    "X_test  = X[60000:]\n",
    "y_train = y[:60000]\n",
    "y_test  = y[60000:]"
   ]
  },
  {
   "cell_type": "code",
   "execution_count": 6,
   "id": "3b483f37-3770-470d-a44f-15de4a44989c",
   "metadata": {},
   "outputs": [],
   "source": [
    "y_train_5 = y_train == 5\n",
    "y_test_5  = y_test  == 5"
   ]
  },
  {
   "cell_type": "code",
   "execution_count": 7,
   "id": "ca963048-dc65-44c3-b7e5-b044f1896879",
   "metadata": {},
   "outputs": [
    {
     "data": {
      "text/plain": [
       "SGDClassifier(random_state=42)"
      ]
     },
     "execution_count": 7,
     "metadata": {},
     "output_type": "execute_result"
    }
   ],
   "source": [
    "from sklearn.linear_model import SGDClassifier\n",
    "\n",
    "sgd_clf = SGDClassifier(max_iter=1000, tol=1e-3, random_state=42)\n",
    "sgd_clf.fit(\n",
    "    X=X_train,\n",
    "    y=y_train_5\n",
    ")"
   ]
  },
  {
   "cell_type": "markdown",
   "id": "6b77b595-196e-4477-8708-cdd844c52f24",
   "metadata": {},
   "source": [
    "Test on our image"
   ]
  },
  {
   "cell_type": "code",
   "execution_count": 8,
   "id": "6c653b33-9c0c-4d18-a0c6-cfe206bee57e",
   "metadata": {},
   "outputs": [
    {
     "data": {
      "text/plain": [
       "array([ True])"
      ]
     },
     "execution_count": 8,
     "metadata": {},
     "output_type": "execute_result"
    }
   ],
   "source": [
    "sgd_clf.predict([some_digit])"
   ]
  },
  {
   "cell_type": "markdown",
   "id": "f7b102e5-65a4-4461-a00d-f2a75a4b9865",
   "metadata": {},
   "source": [
    "# Performance measure"
   ]
  },
  {
   "cell_type": "markdown",
   "id": "149b30c4-0c4b-426d-92b1-8f9f1a49585c",
   "metadata": {},
   "source": [
    "## Cross-Validation"
   ]
  },
  {
   "cell_type": "code",
   "execution_count": 9,
   "id": "017d6781-2f1d-411b-88bd-93818def413e",
   "metadata": {},
   "outputs": [
    {
     "data": {
      "text/plain": [
       "array([0.95035, 0.96035, 0.9604 ])"
      ]
     },
     "execution_count": 9,
     "metadata": {},
     "output_type": "execute_result"
    }
   ],
   "source": [
    "from sklearn.model_selection import cross_val_score\n",
    "\n",
    "cross_val_score(\n",
    "    estimator=sgd_clf,\n",
    "    X=X_train,\n",
    "    y=y_train_5,\n",
    "    cv=3,\n",
    "    scoring='accuracy'\n",
    ")"
   ]
  },
  {
   "cell_type": "markdown",
   "id": "40ff7bfa-66bf-42f4-9b0e-bea30ec0acd0",
   "metadata": {},
   "source": [
    "95.035% accuracy? Seems a bit high. Lets try to classifiy \"not a 5\"."
   ]
  },
  {
   "cell_type": "code",
   "execution_count": 10,
   "id": "ccc52915-8244-4919-96fd-cebe341cffbb",
   "metadata": {},
   "outputs": [
    {
     "data": {
      "text/plain": [
       "array([0.91125, 0.90855, 0.90915])"
      ]
     },
     "execution_count": 10,
     "metadata": {},
     "output_type": "execute_result"
    }
   ],
   "source": [
    "from sklearn.base import BaseEstimator\n",
    "\n",
    "class Never5Classifier(BaseEstimator):\n",
    "    def fit(self, X, y=None):\n",
    "        pass\n",
    "    def predict(self, X):\n",
    "        return np.zeros((len(X), 1), dtype=bool)\n",
    "    \n",
    "never_5_clf = Never5Classifier()\n",
    "cross_val_score(never_5_clf, X_train, y_train_5, cv=3, scoring=\"accuracy\")"
   ]
  },
  {
   "cell_type": "markdown",
   "id": "499409a8-0281-41f7-bf0b-9e55327af952",
   "metadata": {},
   "source": [
    "Over 90% accurate. This is due to the fact that ca. 10% of the samples are 5s. If we always guess 'not a 5' we are 90% right. Accuracy is  ususally not the preferred performance measure."
   ]
  },
  {
   "cell_type": "markdown",
   "id": "6b776831-66a2-4975-a364-deb1596c2d6f",
   "metadata": {},
   "source": [
    "## Confustion Matrix\n",
    "\n",
    "Idea: Count the number of times an instane of class A got classified as class B. "
   ]
  },
  {
   "cell_type": "code",
   "execution_count": 11,
   "id": "9bd9b99e-3629-4380-b09f-9f54166801f1",
   "metadata": {},
   "outputs": [],
   "source": [
    "# Get the prediction, not the scores.\n",
    "from sklearn.model_selection import cross_val_predict\n",
    "\n",
    "y_train_pred = cross_val_predict(\n",
    "    estimator=sgd_clf,\n",
    "    X=X_train,\n",
    "    y=y_train_5,\n",
    "    cv=3,\n",
    ")"
   ]
  },
  {
   "cell_type": "code",
   "execution_count": 12,
   "id": "1114ea37-692b-45c7-8c21-d21fe53eb7c2",
   "metadata": {},
   "outputs": [
    {
     "data": {
      "text/plain": [
       "array([[53892,   687],\n",
       "       [ 1891,  3530]])"
      ]
     },
     "execution_count": 12,
     "metadata": {},
     "output_type": "execute_result"
    }
   ],
   "source": [
    "# Calculate the confusion matrix.\n",
    "# How many times got a 5 predicted as not a 5 and vice-versa.\n",
    "from sklearn.metrics import confusion_matrix\n",
    "\n",
    "confusion_matrix(y_train_5, y_train_pred)"
   ]
  },
  {
   "cell_type": "code",
   "execution_count": null,
   "id": "e84693bd-4afe-4604-bcb6-5dc546c25e62",
   "metadata": {},
   "outputs": [],
   "source": []
  }
 ],
 "metadata": {
  "kernelspec": {
   "display_name": "Python 3",
   "language": "python",
   "name": "python3"
  },
  "language_info": {
   "codemirror_mode": {
    "name": "ipython",
    "version": 3
   },
   "file_extension": ".py",
   "mimetype": "text/x-python",
   "name": "python",
   "nbconvert_exporter": "python",
   "pygments_lexer": "ipython3",
   "version": "3.9.4"
  }
 },
 "nbformat": 4,
 "nbformat_minor": 5
}
