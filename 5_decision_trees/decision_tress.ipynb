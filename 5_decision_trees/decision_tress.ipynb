{
 "cells": [
  {
   "cell_type": "code",
   "execution_count": 1,
   "id": "4e8dad79-0c0f-4e69-ad11-37a019616767",
   "metadata": {},
   "outputs": [
    {
     "name": "stdout",
     "output_type": "stream",
     "text": [
      "/opt/homebrew/Caskroom/miniforge/base/envs/hands_on/bin/python\n"
     ]
    }
   ],
   "source": [
    "import os\n",
    "import sys\n",
    "\n",
    "print(sys.executable)\n",
    "\n",
    "%config Completer.use_jedi = False"
   ]
  },
  {
   "cell_type": "markdown",
   "id": "e70bb2c6-aefe-4ff1-86bf-59645cfcc214",
   "metadata": {},
   "source": [
    "# Decision Trees - Introduction:\n",
    "- Capable of classification and regression tasks. \n",
    "- Fundamental part of Random Forests"
   ]
  },
  {
   "cell_type": "markdown",
   "id": "526256fb-90cd-4105-871f-8bf66891c94d",
   "metadata": {},
   "source": [
    "# Training and visualizing a decision tree"
   ]
  },
  {
   "cell_type": "code",
   "execution_count": 2,
   "id": "6454cfd9-00c7-4c7b-a526-940d6e13118e",
   "metadata": {},
   "outputs": [
    {
     "data": {
      "text/plain": [
       "DecisionTreeClassifier(max_depth=2)"
      ]
     },
     "execution_count": 2,
     "metadata": {},
     "output_type": "execute_result"
    }
   ],
   "source": [
    "from sklearn.datasets import load_iris\n",
    "from sklearn.tree import DecisionTreeClassifier\n",
    "\n",
    "# Load data and set variables\n",
    "iris = load_iris()\n",
    "X = iris.data[:, 2:]\n",
    "y = iris.target\n",
    "\n",
    "# Train Decision Tree\n",
    "tree_clf = DecisionTreeClassifier(max_depth=2)\n",
    "tree_clf.fit(X, y)"
   ]
  },
  {
   "cell_type": "code",
   "execution_count": 3,
   "id": "8867a045-40cf-4fa2-b4e5-bccaba2885c9",
   "metadata": {},
   "outputs": [
    {
     "ename": "ModuleNotFoundError",
     "evalue": "No module named 'graphviz'",
     "output_type": "error",
     "traceback": [
      "\u001b[0;31m---------------------------------------------------------------------------\u001b[0m",
      "\u001b[0;31mModuleNotFoundError\u001b[0m                       Traceback (most recent call last)",
      "\u001b[0;32m<ipython-input-3-44b4852136de>\u001b[0m in \u001b[0;36m<module>\u001b[0;34m\u001b[0m\n\u001b[0;32m----> 1\u001b[0;31m \u001b[0;32mfrom\u001b[0m \u001b[0mgraphviz\u001b[0m \u001b[0;32mimport\u001b[0m \u001b[0mSource\u001b[0m\u001b[0;34m\u001b[0m\u001b[0;34m\u001b[0m\u001b[0m\n\u001b[0m\u001b[1;32m      2\u001b[0m \u001b[0;32mfrom\u001b[0m \u001b[0msklearn\u001b[0m\u001b[0;34m.\u001b[0m\u001b[0mtree\u001b[0m \u001b[0;32mimport\u001b[0m \u001b[0mexport_graphviz\u001b[0m\u001b[0;34m\u001b[0m\u001b[0;34m\u001b[0m\u001b[0m\n\u001b[1;32m      3\u001b[0m \u001b[0;34m\u001b[0m\u001b[0m\n\u001b[1;32m      4\u001b[0m \u001b[0;31m# Visualize the trained decision tree\u001b[0m\u001b[0;34m\u001b[0m\u001b[0;34m\u001b[0m\u001b[0;34m\u001b[0m\u001b[0m\n\u001b[1;32m      5\u001b[0m \u001b[0;34m\u001b[0m\u001b[0m\n",
      "\u001b[0;31mModuleNotFoundError\u001b[0m: No module named 'graphviz'"
     ]
    }
   ],
   "source": [
    "from graphviz import Source\n",
    "from sklearn.tree import export_graphviz\n",
    "\n",
    "# Visualize the trained decision tree\n",
    "\n",
    "export_graphviz(\n",
    "        tree_clf,\n",
    "        out_file=os.path.join(IMAGES_PATH, \"iris_tree.dot\"),\n",
    "        feature_names=iris.feature_names[2:],\n",
    "        class_names=iris.target_names,\n",
    "        rounded=True,\n",
    "        filled=True\n",
    "    )\n",
    "\n",
    "Source.from_file(os.path.join(IMAGES_PATH, \"iris_tree.dot\"))"
   ]
  },
  {
   "cell_type": "markdown",
   "id": "6613560d-c7d7-4209-83c3-48a2bad51399",
   "metadata": {},
   "source": [
    "# Making predictions\n",
    "- Process\n",
    "    1. Start at root node (depth = 0). Is petal-length smaller then 2.45 cm? True || False\n",
    "    2. Move to next node. Node question, again evaluates to True || False. Here it is leafe so it does not have children. It returns a prediction class.\n",
    "- Needs no feature scaling or centering and very little data preparation over all."
   ]
  },
  {
   "cell_type": "markdown",
   "id": "c652a8ba-4200-44ee-b03e-bf8638ddc467",
   "metadata": {},
   "source": [
    "- node sample: counts how many training instances applied to it.\n",
    "- node values: counts how many training instances of each instance applied to it.\n",
    "- gini: how pure a node is. => All instances here are of the same type sp gini == 1.\n",
    "\\begin{equation*}\n",
    "G_i = 1 - \\sum_{k=1}^n p_{i,k^2}\n",
    "\\end{equation*}"
   ]
  },
  {
   "cell_type": "markdown",
   "id": "9222f99f-bc42-40c3-bf67-f8686f2663b4",
   "metadata": {},
   "source": [
    "# Estimating Class Probabilities\n",
    "- Estimate the probability that instance x belongs to a specific class k.\n",
    "- Traves through decition-tree, find the leafen-node for that class and then return the ratio of the trianing instances of class k."
   ]
  },
  {
   "cell_type": "markdown",
   "id": "bbb75559-3b08-41cf-9f2d-67822b4ac25d",
   "metadata": {},
   "source": [
    "# CART Training Algorithm (Classification and Regression Tree)\n",
    "- Used by Scikit-Learn.\n",
    "- It splits the training set into two subsets unsing single feature k and a threshold t_k. It searches for paris of (k, t_k) that produce the purest subset weighted by thier size. Continue further down.\n",
    "- It is a \"greedy\" algorithm that searches for the optimium at the top and repeats with no checks for effects further down.\n",
    "- It is NP-Compplete: O(exp(m)) complexity. Thus we must settle for a reasonable good solution.\n",
    "- Computational complexity: O(log2(m))."
   ]
  },
  {
   "cell_type": "markdown",
   "id": "277771b5-3234-4ae0-b3e0-0c31fe7764ee",
   "metadata": {},
   "source": [
    "# Entropy in ML is frequently used as a measure of impurity.\n",
    "It is an alternative to the Gini which is faster and usually the results are not that different."
   ]
  },
  {
   "cell_type": "markdown",
   "id": "daaceb37-1eb3-44c9-a269-2baaaf9b36a1",
   "metadata": {},
   "source": [
    "# Regulaization Hyperparameters\n",
    "- Decision tree make no assumption about the training data (i.e. not linear etc.).\n",
    "- If unconstrained the tree structure will adopt itself to the training data fitting it closely.... overfitting it. These models are called *nonparametric* as the number of parameters is not prior defined.\n",
    "- To avoide overfitting we restrict the decision trees freedome (regularization). i.e. max depth, min-number-samples before a node can split, min-number-samples a leafe must have, etc.\n",
    "- Prunin: Other algs. first train unrestricted and then prunify be deleteing unnecessary nodes. A node where all childrens are leafes is consideren unnecessary and they are removed. If this step is not statistical signif"
   ]
  }
 ],
 "metadata": {
  "kernelspec": {
   "display_name": "Python 3",
   "language": "python",
   "name": "python3"
  },
  "language_info": {
   "codemirror_mode": {
    "name": "ipython",
    "version": 3
   },
   "file_extension": ".py",
   "mimetype": "text/x-python",
   "name": "python",
   "nbconvert_exporter": "python",
   "pygments_lexer": "ipython3",
   "version": "3.9.4"
  }
 },
 "nbformat": 4,
 "nbformat_minor": 5
}
